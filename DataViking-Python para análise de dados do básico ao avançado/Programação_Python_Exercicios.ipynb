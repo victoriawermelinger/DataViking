{
 "cells": [
  {
   "cell_type": "markdown",
   "metadata": {},
   "source": [
    "# **Exercicios de Python para resolver!**\n",
    "1ª Exercício: \n",
    "Escreva um programa que mostre a mensagem 'Hello World!' na tela."
   ]
  },
  {
   "cell_type": "code",
   "execution_count": 2,
   "metadata": {},
   "outputs": [
    {
     "name": "stdout",
     "output_type": "stream",
     "text": [
      "Hello World!\n"
     ]
    }
   ],
   "source": [
    "print ('Hello World!')"
   ]
  },
  {
   "cell_type": "markdown",
   "metadata": {},
   "source": [
    "2ª Exercício : Faça um programa que solicite um número do usuário e apresente a seguinte mensagem na tela:\n",
    "\n",
    "\"O número digitado foi [número]\".\n"
   ]
  },
  {
   "cell_type": "code",
   "execution_count": 3,
   "metadata": {},
   "outputs": [
    {
     "name": "stdout",
     "output_type": "stream",
     "text": [
      "O número digitado foi 25\n",
      "O número digitado foi 24.0\n"
     ]
    }
   ],
   "source": [
    "num = input('Digite um número: ')\n",
    "print(f'O número digitado foi {num}')\n",
    "\n",
    "#Solução 2\n",
    "num = float(input('Digite um número: '))\n",
    "print(f'O número digitado foi {num}')"
   ]
  },
  {
   "cell_type": "markdown",
   "metadata": {},
   "source": [
    "3ª Exercício :Escreva um programa que solicite o nome e o sobrenome do usuário. Ao final o programa deverá apresentar o nome completo do usuário na tela."
   ]
  },
  {
   "cell_type": "code",
   "execution_count": 1,
   "metadata": {},
   "outputs": [
    {
     "name": "stdout",
     "output_type": "stream",
     "text": [
      "Victoria Wermelinger\n"
     ]
    }
   ],
   "source": [
    "nome=input('Digite seu primeiro nome: ').strip().title()\n",
    "sobrenome=input('Digite seu sobrenome: ').strip().title()\n",
    "print(f'{nome} {sobrenome}')"
   ]
  },
  {
   "cell_type": "markdown",
   "metadata": {},
   "source": [
    "4ª Exercício :Faça um programa que solicite três números inteiros do usuário e imprima a soma destes."
   ]
  },
  {
   "cell_type": "code",
   "execution_count": 5,
   "metadata": {},
   "outputs": [
    {
     "name": "stdout",
     "output_type": "stream",
     "text": [
      "2+2+2=6\n"
     ]
    }
   ],
   "source": [
    "num1=int(input('Número 1: '))\n",
    "num2=int(input('Número 2: '))\n",
    "num3=int(input('Número 3: '))\n",
    "print(f'{num1}+{num2}+{num3}={num1+num2+num3}')"
   ]
  },
  {
   "cell_type": "markdown",
   "metadata": {},
   "source": [
    "5ª Exercício: Escreva um programa que solicite duas notas do usuário e apresente a média na tela da seguinte forma:\n",
    "\n",
    "\"A média das notas [nota1] e [nota2] é [média]\""
   ]
  },
  {
   "cell_type": "code",
   "execution_count": 6,
   "metadata": {},
   "outputs": [
    {
     "name": "stdout",
     "output_type": "stream",
     "text": [
      "A média das notas 25.0 e 50.0 é 37.5\n"
     ]
    }
   ],
   "source": [
    "nota1=float(input('Nota 1: \\n'))\n",
    "nota2=float(input('Nota 2: \\n'))\n",
    "media=(nota1+nota2)/2\n",
    "print(f'A média das notas {nota1} e {nota2} é {media}')"
   ]
  },
  {
   "cell_type": "markdown",
   "metadata": {},
   "source": [
    "6ª Exercício: Faça um programa que calcule a raiz quadrada de um número. O usuário deve inserir um número e o programa deve mostrar na tela o resultado da raiz quadrada do número inserido."
   ]
  },
  {
   "cell_type": "code",
   "execution_count": 7,
   "metadata": {},
   "outputs": [
    {
     "name": "stdout",
     "output_type": "stream",
     "text": [
      "A raiz quadrada de 55.0 é 7.416198487095663\n"
     ]
    }
   ],
   "source": [
    "num=float(input('Digite um número: '))\n",
    "print(f'A raiz quadrada de {num} é {num**(1/2)}')\n"
   ]
  },
  {
   "cell_type": "markdown",
   "metadata": {},
   "source": [
    "7ª Exercício: Faça um programa que peça 5 números de ponto flutuante do usuário e apresente no final a média dos números digitados."
   ]
  },
  {
   "cell_type": "code",
   "execution_count": 8,
   "metadata": {},
   "outputs": [
    {
     "name": "stdout",
     "output_type": "stream",
     "text": [
      "Média: 147.6\n"
     ]
    }
   ],
   "source": [
    "num1=float(input('Número 1: '))\n",
    "num2=float(input('Número 2: '))\n",
    "num3=float(input('Número 3: '))\n",
    "num4=float(input('Número 4: '))\n",
    "num5=float(input('Número 5: '))\n",
    "media=(num1+num2+num3+num4+num5)/5\n",
    "print(f'Média: {media}')"
   ]
  },
  {
   "cell_type": "markdown",
   "metadata": {},
   "source": [
    "8ª Exercício: Escreva um programa que faça a conversão de um dado valor de metro para quilômetro."
   ]
  },
  {
   "cell_type": "code",
   "execution_count": 1,
   "metadata": {},
   "outputs": [
    {
     "name": "stdout",
     "output_type": "stream",
     "text": [
      "152.0 metros equivale a 0.152 km\n"
     ]
    }
   ],
   "source": [
    "num=float(input('Digite um valor em metros: '))\n",
    "print(f'{num} metros equivale a {num/1000} km')"
   ]
  },
  {
   "cell_type": "markdown",
   "metadata": {},
   "source": [
    "9ª Exercício: Escreva um programa que calcule a área de uma circunferência. O usuário deve digitar o valor do raio e ao final o programa deverá mostrar na tela a área da circunferência.\n",
    "\n",
    "Use a fórmula: área=pi*r² , em que pi é uma constante e r o raio da circunferência.\n",
    "\n",
    "Dica: você pode usar a biblioteca math para pegar a constante pi."
   ]
  },
  {
   "cell_type": "code",
   "execution_count": 2,
   "metadata": {},
   "outputs": [
    {
     "name": "stdout",
     "output_type": "stream",
     "text": [
      "Área da circunferência: 706.86\n"
     ]
    }
   ],
   "source": [
    "from math import pi\n",
    "raio=float(input('Digite o valor do raio da circunferência: '))\n",
    "print(f'Área da circunferência: {pi*raio**2:.2f}')"
   ]
  },
  {
   "cell_type": "markdown",
   "metadata": {},
   "source": [
    "10ª Exercício: Faça um programa que peça uma temperatura em Fahrenheit (F) e converta esta temperatura para grau Celsius (C), mostrando o resultado da conversão na tela.\n",
    "\n",
    "Use a fórmula: C = 5 * ((F-32) / 9)."
   ]
  },
  {
   "cell_type": "code",
   "execution_count": 3,
   "metadata": {},
   "outputs": [
    {
     "name": "stdout",
     "output_type": "stream",
     "text": [
      "154.00° F equivale a 67.78° C .\n"
     ]
    }
   ],
   "source": [
    "f=float(input('Temperatura em Fahrenheit: \\n'))\n",
    "c=5*((f-32)/9)\n",
    "print(f'{f:.2f}° F equivale a {c:.2f}° C .')"
   ]
  },
  {
   "cell_type": "markdown",
   "metadata": {},
   "source": [
    "11ª Exercício: Escreva um programa que peça dois números e apresente a divisão e multiplicação entre eles. A tela de apresentação deverá seguir o seguinte formato:\n",
    "\n",
    "\"[número1]x[número2]=[multiplicação]\"\n",
    "\n",
    "\"[número1]/[número2]=[divisão]\""
   ]
  },
  {
   "cell_type": "code",
   "execution_count": 4,
   "metadata": {},
   "outputs": [
    {
     "name": "stdout",
     "output_type": "stream",
     "text": [
      "15.0x52.0=780.0\n",
      "15.0/52.0=0.28846153846153844\n"
     ]
    }
   ],
   "source": [
    "num1=float(input('Número 1: '))\n",
    "num2=float(input('Número 2: '))\n",
    "print(f'{num1}x{num2}={num1*num2}')\n",
    "print(f'{num1}/{num2}={num1/num2}')"
   ]
  },
  {
   "cell_type": "markdown",
   "metadata": {},
   "source": [
    "12ª Exercício: Escreva um programa que receba o nome, sobrenome e idade do usuário e apresente a seguinte mensagem na tela:\n",
    "\n",
    "\"Seja bem-vindo [nome] [sobrenome].\"\n",
    "\n",
    "\"Você possui [idade] anos de idade.\"\n",
    "No campo nome e sobrenome utilize os métodos strip() e title(). Lembre-se que o primeiro método permite remover os espaços antes e depois da string, enquanto que o último permite colocar a string no formato titlecased (capitaliza a string).\n"
   ]
  },
  {
   "cell_type": "code",
   "execution_count": 16,
   "metadata": {},
   "outputs": [
    {
     "name": "stdout",
     "output_type": "stream",
     "text": [
      "Seja bem-vindo Victoria Wermelinger\n",
      "Você possui 32 anos de idade.\n"
     ]
    }
   ],
   "source": [
    "nome=input('Nome: ')\n",
    "sobrenome=input('Sobrenome: ')\n",
    "idade=int(input('Idade: '))\n",
    "print(f'Seja bem-vindo {nome.strip().title()} {sobrenome.strip().title()}')\n",
    "print(f'Você possui {idade} anos de idade.')\n"
   ]
  },
  {
   "cell_type": "markdown",
   "metadata": {},
   "source": [
    "13ª Exercício: Escreva um programa que peça um número do usuário via método input e converta esse número para o formato float."
   ]
  },
  {
   "cell_type": "code",
   "execution_count": 17,
   "metadata": {},
   "outputs": [
    {
     "name": "stdout",
     "output_type": "stream",
     "text": [
      "<class 'float'>\n"
     ]
    }
   ],
   "source": [
    "num=input('Digite um número:: ')\n",
    "num=float(num)\n",
    "print(type(num))"
   ]
  },
  {
   "cell_type": "markdown",
   "metadata": {},
   "source": [
    "14ª Exercício: Escreva um programa que peça o nome e a idade do usuário. Caso a idade do usuário seja maior ou igual a 18 anos apresente a seguinte mensagem: \"Seja bem-vindo ao nosso site [nome]!\"; caso contrário, apresente a seguinte mensagem: \"Você não pode acessar nosso site [nome].\"."
   ]
  },
  {
   "cell_type": "code",
   "execution_count": 18,
   "metadata": {},
   "outputs": [
    {
     "name": "stdout",
     "output_type": "stream",
     "text": [
      "Seja bem-vindo ao nosso site Victoria.\n"
     ]
    }
   ],
   "source": [
    "nome=input('Digite seu nome: ')\n",
    "idade=int(input('Digite sua idade: '))\n",
    "if idade>=18:\n",
    "    print(f'Seja bem-vindo ao nosso site {nome.strip().title()}.')\n",
    "else:\n",
    "    print(f'Você não pode acessar nosso site {nome.strip().title()}.')"
   ]
  },
  {
   "cell_type": "markdown",
   "metadata": {},
   "source": [
    "15ª Exercício: Elabore um programa para calcular a hipotenusa de um triângulo.\n",
    "\n",
    "Dicas:\n",
    "Veja o módulo math (math.hypot) <p>\n",
    "Utilize a seguinte fórmula: hipotenusa=(a²+b²)¹/2:"
   ]
  },
  {
   "cell_type": "code",
   "execution_count": 21,
   "metadata": {},
   "outputs": [
    {
     "name": "stdout",
     "output_type": "stream",
     "text": [
      "Hipotenusa: 113.01769772916099\n",
      "Hipotenusa: 113.01769772916099\n"
     ]
    }
   ],
   "source": [
    "from math import hypot\n",
    "\n",
    "cateto_a=float(input('Digite o Cateto Adjacente: '))\n",
    "cateto_o=float(input('Digite o Cateto Oposto: '))\n",
    "\n",
    "hipotenusa1=(cateto_a**2+cateto_o**2)**(1/2)  #forma de cálculo 1\n",
    "hipotenusa2=hypot(cateto_a,cateto_o)  #forma de cálculo 2\n",
    "\n",
    "print(f'Hipotenusa: {hipotenusa1}')\n",
    "print(f'Hipotenusa: {hipotenusa2}')\n"
   ]
  },
  {
   "cell_type": "markdown",
   "metadata": {},
   "source": [
    "16ª Exercício: Faça um programa que recebe um número inteiro do usuário e calcule o fatorial deste número. <br>\n",
    "Dica: utilize o módulo math do Python, especificamente math.fatorial."
   ]
  },
  {
   "cell_type": "code",
   "execution_count": 22,
   "metadata": {},
   "outputs": [
    {
     "name": "stdout",
     "output_type": "stream",
     "text": [
      "O fatorial de 5 é 120\n"
     ]
    }
   ],
   "source": [
    "import math\n",
    "num=int(input('Digite um número inteiro: '))\n",
    "fatorial=math.factorial(num)\n",
    "print(f'O fatorial de {num} é {fatorial}')"
   ]
  },
  {
   "cell_type": "markdown",
   "metadata": {},
   "source": [
    "17ª Exercício: Escreva um programa que peça um número do usuário e calcule o logaritmo deste número nas bases 10 e 2.\n",
    "\n",
    "Dica: utilize o módulo math."
   ]
  },
  {
   "cell_type": "code",
   "execution_count": 23,
   "metadata": {},
   "outputs": [
    {
     "name": "stdout",
     "output_type": "stream",
     "text": [
      "O log de 58.0 na base 10 é 1.7634279935629373\n",
      "O log de 58.0 na base 2 é 5.857980995127572\n"
     ]
    }
   ],
   "source": [
    "import math\n",
    "\n",
    "num=float(input('Digite um número: '))\n",
    "log1=math.log10(num)  #também podemos fazer: math.log(num,10)\n",
    "log2=math.log(num,2)\n",
    "print(f'O log de {num} na base 10 é {log1}')\n",
    "print(f'O log de {num} na base 2 é {log2}')"
   ]
  },
  {
   "cell_type": "markdown",
   "metadata": {},
   "source": [
    "18ª Exercício: Faça um programa que peça a base e a altura de um retângulo e calcule e mostre na tela a área e o perímetro."
   ]
  },
  {
   "cell_type": "code",
   "execution_count": 24,
   "metadata": {},
   "outputs": [
    {
     "name": "stdout",
     "output_type": "stream",
     "text": [
      "O retângulo digitado tem base 4.0 e altura 4.0.\n",
      "A área deste retângulo é: 16.0\n",
      "O perímetro deste retângulo é: 16.0\n"
     ]
    }
   ],
   "source": [
    "base=float(input('Digite a base do retângulo: '))\n",
    "altura=float(input('Digite a altura do retângulo: '))\n",
    "\n",
    "area=base*altura\n",
    "perimetro=2*base+2*altura\n",
    "\n",
    "print(f'O retângulo digitado tem base {base} e altura {altura}.')\n",
    "print(f'A área deste retângulo é: {area}')\n",
    "print(f'O perímetro deste retângulo é: {perimetro}')"
   ]
  },
  {
   "cell_type": "markdown",
   "metadata": {},
   "source": [
    "19ª Exercício: Escreva um programa que solicite o nome, o sobrenome e o salário atual de um funcionário. Ao fim, calcule seu novo salário considerando cenários hipotéticos, com os seguintes aumentos: 10%, 25%,30% e 50%. A mensagem na tela deverá seguir o seguinte padrão:\n",
    "\n",
    "\"Olá, [nome] [sobrenome]\"\n",
    "\n",
    "\"Seu salário atual é : [salário]\"\n",
    "\n",
    "\"Seu salário com 10% de aumento é: [salário]\"\n",
    "\n",
    "\"Seu salário com 25% de aumento é: [salário]\"\n",
    "\n",
    "\"Seu salário com 30% de aumento é: [salário]\"\n",
    "\n",
    "\"Seu salário com 50% de aumento é: [salário]\"\n",
    "\n",
    "No campo nome e sobrenome utilize os métodos strip() e title(). Lembre-se que o primeiro método permite remover os espaços antes e após a string, enquanto que o último permite colocar a string no formato titlecased (capitaliza string)."
   ]
  },
  {
   "cell_type": "code",
   "execution_count": 25,
   "metadata": {},
   "outputs": [
    {
     "name": "stdout",
     "output_type": "stream",
     "text": [
      "Olá, Victoria Wermelinger\n",
      "Seu salário atual é: R$ 15243.00\n",
      "Seu salário com 10% de aumento é: R$ 16767.30\n",
      "Seu salário com 25% de aumento é: R$ 19053.75\n",
      "Seu salário com 30% de aumento é: R$ 19815.90\n",
      "Seu salário com 50% de aumento é: R$ 22864.50\n"
     ]
    }
   ],
   "source": [
    "nome=input('Digite seu nome: ').strip().title()\n",
    "sobrenome=input('Digite seu sobrenome: ').strip().title()\n",
    "salario=float(input('Digite seu salário: '))\n",
    "salario1=salario+salario*0.1  #salário com 10% de aumento\n",
    "salario2=salario+salario*0.25  #salário com 25% de aumento\n",
    "salario3=salario+salario*0.3  #salário com 30% de aumento\n",
    "salario4=salario+salario*0.5  #salário com 50% de aumento\n",
    "\n",
    "print(f'Olá, {nome} {sobrenome}')\n",
    "print(f'Seu salário atual é: R$ {salario:.2f}')\n",
    "print(f'Seu salário com 10% de aumento é: R$ {salario1:.2f}')\n",
    "print(f'Seu salário com 25% de aumento é: R$ {salario2:.2f}')\n",
    "print(f'Seu salário com 30% de aumento é: R$ {salario3:.2f}')\n",
    "print(f'Seu salário com 50% de aumento é: R$ {salario4:.2f}')"
   ]
  },
  {
   "cell_type": "markdown",
   "metadata": {},
   "source": [
    "20ª Exercício: Escreva um programa que peça um número inteiro do usuário e calcule e imprima a tabuada deste número."
   ]
  },
  {
   "cell_type": "code",
   "execution_count": 26,
   "metadata": {},
   "outputs": [
    {
     "name": "stdout",
     "output_type": "stream",
     "text": [
      "Tabuada do número: 2\n",
      "2 x 1 = 2\n",
      "2 x 2 = 4\n",
      "2 x 3 = 6\n",
      "2 x 4 = 8\n",
      "2 x 5 = 10\n",
      "2 x 6 = 12\n",
      "2 x 7 = 14\n",
      "2 x 8 = 16\n",
      "2 x 9 = 18\n",
      "2 x 10 = 20\n"
     ]
    }
   ],
   "source": [
    "num=int(input('Digite um número inteiro: \\n'))\n",
    "print(f'Tabuada do número: {num}')\n",
    "print(f'{num} x 1 = {num*1}')\n",
    "print(f'{num} x 2 = {num*2}')\n",
    "print(f'{num} x 3 = {num*3}')\n",
    "print(f'{num} x 4 = {num*4}')\n",
    "print(f'{num} x 5 = {num*5}')\n",
    "print(f'{num} x 6 = {num*6}')\n",
    "print(f'{num} x 7 = {num*7}')\n",
    "print(f'{num} x 8 = {num*8}')\n",
    "print(f'{num} x 9 = {num*9}')\n",
    "print(f'{num} x 10 = {num*10}')"
   ]
  },
  {
   "cell_type": "markdown",
   "metadata": {},
   "source": [
    "21ª Exercício: Faça um programa que solicite um número inteiro e mostre o seu valor absoluto.\n",
    "Dica: use a função built-in abs()."
   ]
  },
  {
   "cell_type": "code",
   "execution_count": 27,
   "metadata": {},
   "outputs": [
    {
     "name": "stdout",
     "output_type": "stream",
     "text": [
      "O valor absoluto de 25 é 25.\n"
     ]
    }
   ],
   "source": [
    "num=int(input('Digite um número inteiro: '))\n",
    "print(f'O valor absoluto de {num} é {abs(num)}.')"
   ]
  },
  {
   "cell_type": "markdown",
   "metadata": {},
   "source": [
    "22ª Exercício: Faça um programa que peça uma string ao usuário e mostre na tela a quantidade de caracteres.\n",
    "\n",
    "Dica: use a função built-in len() e trate a string com o método strip()."
   ]
  },
  {
   "cell_type": "code",
   "execution_count": 28,
   "metadata": {},
   "outputs": [
    {
     "name": "stdout",
     "output_type": "stream",
     "text": [
      "Você digitou: 25\n",
      "Quantidade de caracteres do que você digitou é: 2\n"
     ]
    }
   ],
   "source": [
    "string=input('Digite algo: ')\n",
    "print(f'Você digitou: {string}')\n",
    "print(f'Quantidade de caracteres do que você digitou é: {len(string)}')"
   ]
  },
  {
   "cell_type": "markdown",
   "metadata": {},
   "source": [
    "23ª Exercício: Escreva um programa que peça um número inteiro do usuário e mostre se esse número é par ou ímpar. A mensagem na tela deverá seguir o seguinte formato:\n",
    "\n",
    "\"O número [número] é [par/ímpar]\""
   ]
  },
  {
   "cell_type": "code",
   "execution_count": 29,
   "metadata": {},
   "outputs": [
    {
     "name": "stdout",
     "output_type": "stream",
     "text": [
      "O número 52 é par.\n"
     ]
    }
   ],
   "source": [
    "num=int(input('Número inteiro: '))\n",
    "if num%2==0:\n",
    "    print(f'O número {num} é par.')\n",
    "else:\n",
    "    print(f'O número é {num} é ímpar.')"
   ]
  },
  {
   "cell_type": "markdown",
   "metadata": {},
   "source": [
    "24ª Exercício: O Índice de Massa Corporal (IMC) é utilizado para mensurar o peso ideal de uma pessoa. Escreva um programa que peça o nome, a idade , o peso e a altura do usuário. Ao final calcule e mostre o resultado do seu IMC e classifique este resultado de acordo com a regra a seguir.\n",
    "\n",
    "IMC<17 - Muito abaixo do peso ideal\n",
    "\n",
    "17<=IMC<18,5 - Abaixo do peso\n",
    "\n",
    "18,5<=IMC<25 - Peso normal\n",
    "\n",
    "25<=IMC<30 - Acima do peso\n",
    "\n",
    "30<=IMC<35 - Obesidade I\n",
    "\n",
    "35<=IMC<40 - Obesidade II (severa)\n",
    "\n",
    "IMC>=40 - Obesidade III (mórbida)\n",
    "\n",
    "Lembre que: IMC=massa/(altura*altura)\n",
    "\n",
    "Fonte: https://pt.wikipedia.org/wiki/%C3%8Dndice_de_massa_corporal"
   ]
  },
  {
   "cell_type": "code",
   "execution_count": 33,
   "metadata": {},
   "outputs": [
    {
     "name": "stdout",
     "output_type": "stream",
     "text": [
      "Cálculo do IMC\n",
      "Processando seus dados...\n",
      "Muito abaixo do peso.\n"
     ]
    }
   ],
   "source": [
    "print('Cálculo do IMC')\n",
    "altura=float(input('Insira sua altura : \\n'))\n",
    "peso=float(input('Insira seu peso : \\n'))\n",
    "imc=peso/(altura*altura)  #poderíamos fazer peso/altura**2\n",
    "print('Processando seus dados...')\n",
    "if imc<17:\n",
    "    print('Muito abaixo do peso.')\n",
    "elif 17<=imc<18.5:\n",
    "    print('Abaixo do peso.')\n",
    "elif 18.5<=imc<25:\n",
    "    print('Peso normal.')\n",
    "elif 25<=imc<30:\n",
    "    print('Acima do peso.')\n",
    "elif 30<=imc<35:\n",
    "    print('Obesidade Grau I.')\n",
    "elif 35<=imc<40:\n",
    "    print('Obesidade Grau II (severa).')\n",
    "else:\n",
    "    print('Obesidade Grau III (mórbida).')"
   ]
  },
  {
   "cell_type": "markdown",
   "metadata": {},
   "source": [
    "25ª Exercício: Escreva um programa que receba dois números de ponto flutuante e mostre na tela o maior número digitado. Considere a possibilidade de o usuário digitar dois números iguais."
   ]
  },
  {
   "cell_type": "code",
   "execution_count": 34,
   "metadata": {},
   "outputs": [
    {
     "name": "stdout",
     "output_type": "stream",
     "text": [
      "254.0<524.0\n"
     ]
    }
   ],
   "source": [
    "n1=float(input('Valor 1 : '))\n",
    "n2=float(input('Valor 2 : '))\n",
    "if n1>n2:\n",
    "    print(f'{n1}>{n2}')\n",
    "elif n1==n2:\n",
    "    print(f'{n1}={n2}')\n",
    "else:\n",
    "    print(f'{n1}<{n2}')"
   ]
  },
  {
   "cell_type": "markdown",
   "metadata": {},
   "source": [
    "26ª Exercício: Escreva um programa que verifique se um determinado número digitado pelo usuário é nulo, positivo ou negativo."
   ]
  },
  {
   "cell_type": "code",
   "execution_count": 35,
   "metadata": {},
   "outputs": [
    {
     "name": "stdout",
     "output_type": "stream",
     "text": [
      "Número positivo.\n"
     ]
    }
   ],
   "source": [
    "num=float(input('Digite um número: '))\n",
    "if num>0:\n",
    "    print('Número positivo.')\n",
    "elif num==0:\n",
    "    print('Número nulo.')\n",
    "else:\n",
    "    print('Número negativo.')"
   ]
  },
  {
   "cell_type": "markdown",
   "metadata": {},
   "source": [
    "27ª Exercício: Escreva um programa que receba três números do usuário e mostre na tela o maior número digitado."
   ]
  },
  {
   "cell_type": "code",
   "execution_count": 36,
   "metadata": {},
   "outputs": [
    {
     "name": "stdout",
     "output_type": "stream",
     "text": [
      "Maior número: 58.0\n"
     ]
    }
   ],
   "source": [
    "numero1=float(input('Número 1: '))\n",
    "numero2=float(input('Número 2: '))\n",
    "numero3=float(input('Número 3: '))\n",
    "\n",
    "if (numero1>=numero2) and (numero1>=numero3):\n",
    "    print(f'Maior número: {numero1}')\n",
    "elif (numero2>=numero1) and (numero2>=numero3):\n",
    "    print(f'Maior número: {numero2}')\n",
    "else:\n",
    "    print(f'Maior número: {numero3}')"
   ]
  },
  {
   "cell_type": "markdown",
   "metadata": {},
   "source": [
    "28ª Exercício: Escreva um programa que gere um número aleatório entre 1 e 100 e mostre na tela.\n",
    "\n",
    "Dica: utilize o módulo random."
   ]
  },
  {
   "cell_type": "code",
   "execution_count": 37,
   "metadata": {},
   "outputs": [
    {
     "name": "stdout",
     "output_type": "stream",
     "text": [
      "32\n"
     ]
    }
   ],
   "source": [
    "import random\n",
    "num=random.randint(1,100)\n",
    "print(num)"
   ]
  },
  {
   "cell_type": "markdown",
   "metadata": {},
   "source": [
    "29ª Exercício: Elabore um progama para verificar se um ano é bissexto ou não. A condição para ser um ano bissexto é: o ano deve ser divisível por 400; ou se for divisível por 4 e não for divisível por 100."
   ]
  },
  {
   "cell_type": "code",
   "execution_count": 38,
   "metadata": {},
   "outputs": [
    {
     "name": "stdout",
     "output_type": "stream",
     "text": [
      "Ano não bissexto.\n"
     ]
    }
   ],
   "source": [
    "ano=int(input('Ano : '))\n",
    "if ano%400==0 or (ano%4==0 and not ano%100==0):\n",
    "    print('Ano bissexto.')\n",
    "else:\n",
    "    print('Ano não bissexto.')"
   ]
  },
  {
   "cell_type": "markdown",
   "metadata": {},
   "source": [
    "30ª Exercício: Elabore um programa para calcular o tamanho de uma string."
   ]
  },
  {
   "cell_type": "code",
   "execution_count": 39,
   "metadata": {},
   "outputs": [
    {
     "name": "stdout",
     "output_type": "stream",
     "text": [
      "2\n"
     ]
    }
   ],
   "source": [
    "string=input('Digite algo: ')\n",
    "print(len(string))"
   ]
  },
  {
   "cell_type": "markdown",
   "metadata": {},
   "source": [
    "31ª Exercício: Utilize o módulo datetime e mostre na tela a data e hora atual do sistema de acordo com o formato descrito abaixo."
   ]
  },
  {
   "cell_type": "code",
   "execution_count": 40,
   "metadata": {},
   "outputs": [
    {
     "name": "stdout",
     "output_type": "stream",
     "text": [
      "02/05/2024 - 21:59:09\n"
     ]
    }
   ],
   "source": [
    "import datetime\n",
    "\n",
    "data_atual=datetime.datetime.now()\n",
    "print(data_atual.strftime('%d/%m/%Y - %H:%M:%S'))"
   ]
  },
  {
   "cell_type": "markdown",
   "metadata": {},
   "source": [
    "32ª Exercício: Escreva um programa que inverta uma string. Exemplos:\n",
    "\n",
    "Hello World!<p>\n",
    "Python<p>\n",
    "!dlroW olleH<p>\n",
    "nohtyP<p>"
   ]
  },
  {
   "cell_type": "code",
   "execution_count": 41,
   "metadata": {},
   "outputs": [
    {
     "name": "stdout",
     "output_type": "stream",
     "text": [
      "Hello World!\n",
      "Python\n",
      "!dlroW olleH\n",
      "nohtyP\n"
     ]
    }
   ],
   "source": [
    "string1='Hello World!'\n",
    "string2='Python'\n",
    "print(string1)\n",
    "print(string2)\n",
    "print(string1[::-1])\n",
    "print(string2[::-1])"
   ]
  },
  {
   "cell_type": "markdown",
   "metadata": {},
   "source": [
    "33ª Exercício: Escreva um programa para mostrar na tela o calendário do mês de dezembro de 2020. Exemplo:\n",
    "\n",
    "![image.png](data:image/png;base64,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)\n",
    "\n",
    "Dica: importe o módulo calendar."
   ]
  },
  {
   "cell_type": "code",
   "execution_count": 42,
   "metadata": {},
   "outputs": [
    {
     "name": "stdout",
     "output_type": "stream",
     "text": [
      "   December 2020\n",
      "Mo Tu We Th Fr Sa Su\n",
      "    1  2  3  4  5  6\n",
      " 7  8  9 10 11 12 13\n",
      "14 15 16 17 18 19 20\n",
      "21 22 23 24 25 26 27\n",
      "28 29 30 31\n",
      "\n"
     ]
    }
   ],
   "source": [
    "import calendar\n",
    "print(calendar.month(2020,12))"
   ]
  },
  {
   "cell_type": "markdown",
   "metadata": {},
   "source": [
    "34ª Exercício: Modifique o programa anterior e permita que o usuário especifique o ano e o mês a serem mostrados na tela."
   ]
  },
  {
   "cell_type": "code",
   "execution_count": 43,
   "metadata": {},
   "outputs": [
    {
     "name": "stdout",
     "output_type": "stream",
     "text": [
      "    August 1991\n",
      "Mo Tu We Th Fr Sa Su\n",
      "          1  2  3  4\n",
      " 5  6  7  8  9 10 11\n",
      "12 13 14 15 16 17 18\n",
      "19 20 21 22 23 24 25\n",
      "26 27 28 29 30 31\n",
      "\n"
     ]
    }
   ],
   "source": [
    "import calendar\n",
    "ano=int(input('Ano: '))\n",
    "mes=int(input('Mês: '))\n",
    "\n",
    "print(calendar.month(ano,mes))"
   ]
  },
  {
   "cell_type": "markdown",
   "metadata": {},
   "source": [
    "35ª Exercício: Escreva um script que mostre na tela o preço de um produto associado a uma categoria especificada pelo usuário.  Utilize como referência as informações a seguir. Caso o usuário não digite uma categoria válida (número entre 1 e 10) mostre na tela uma mensagem personalizada.\n",
    "\n",
    "![image.png](data:image/png;base64,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)"
   ]
  },
  {
   "cell_type": "code",
   "execution_count": 45,
   "metadata": {},
   "outputs": [
    {
     "name": "stdout",
     "output_type": "stream",
     "text": [
      "O preço do produto é: $ 131.4\n"
     ]
    }
   ],
   "source": [
    "categoria=int(input('Digite a categoria do produto: '))\n",
    "if categoria==1:\n",
    "    print('O preço do produto é: $ 0.5')\n",
    "elif categoria==2:\n",
    "    print('O preço do produto é: $ 11.3')\n",
    "elif categoria==3:\n",
    "    print('O preço do produto é: $ 17.5')\n",
    "elif categoria==4:\n",
    "    print('O preço do produto é: $ 33.97')\n",
    "elif categoria==5:\n",
    "    print('O preço do produto é: $ 103.47')\n",
    "elif categoria==6:\n",
    "    print('O preço do produto é: $ 44.67')\n",
    "elif categoria==7:\n",
    "    print('O preço do produto é: $ 12.55')\n",
    "elif categoria==8:\n",
    "    print('O preço do produto é: $ 14.87')\n",
    "elif categoria==9:\n",
    "    print('O preço do produto é: $ 98.12')\n",
    "elif categoria==10:\n",
    "    print('O preço do produto é: $ 131.4')\n",
    "else:\n",
    "    print('Opção inválida.')"
   ]
  },
  {
   "cell_type": "markdown",
   "metadata": {},
   "source": [
    "36ª Exercício: Resolva o exercício anterior para as categorias de 1 a 8. Utilize estruturas aninhadas."
   ]
  },
  {
   "cell_type": "code",
   "execution_count": 47,
   "metadata": {},
   "outputs": [
    {
     "name": "stdout",
     "output_type": "stream",
     "text": [
      "Preço: $ 103.47\n"
     ]
    }
   ],
   "source": [
    "categoria=int(input('Categoria do produto: '))\n",
    "if categoria==1:\n",
    "    print('Preço: $ 0.5')\n",
    "else:\n",
    "    if categoria==2:\n",
    "        print('Preço: $ 11.35')\n",
    "    else:\n",
    "        if categoria==3:\n",
    "            print('Preço: $ 17.5')\n",
    "        else:\n",
    "            if categoria==4:\n",
    "                print('Preço: $ 33.97')\n",
    "            else:\n",
    "                if categoria==5:\n",
    "                    print('Preço: $ 103.47')\n",
    "                else:\n",
    "                    if categoria==6:\n",
    "                        print('Preço: $ 44.67')\n",
    "                    else:\n",
    "                        if categoria==7:\n",
    "                            print('Preço: $ 12.55')\n",
    "                        else:\n",
    "                            if categoria==8:\n",
    "                                print('Preço: $ 14.87')\n",
    "                            else:\n",
    "                                print('Categoria inválida.')"
   ]
  },
  {
   "cell_type": "markdown",
   "metadata": {},
   "source": [
    "37ª Exercício: Determine se uma letra inserida pelo usuário é uma vogal ou consoante. Armazene as vogais em uma lista e implemente sua solução. Desconsidere a possibilidade de o usuário inserir números ou caracteres especiais."
   ]
  },
  {
   "cell_type": "code",
   "execution_count": 48,
   "metadata": {},
   "outputs": [
    {
     "name": "stdout",
     "output_type": "stream",
     "text": [
      "A letra digitada é uma consoante.\n"
     ]
    }
   ],
   "source": [
    "letra=input('Digite uma letra: ')\n",
    "vogais=['a','e','i','o','u']\n",
    "if letra in vogais:\n",
    "    print('A letra digitada é uma vogal.')\n",
    "else:\n",
    "    print('A letra digitada é uma consoante.')"
   ]
  },
  {
   "cell_type": "markdown",
   "metadata": {},
   "source": [
    "38ª Exercício: Escreva um script para classificar um triângulo de acordo com o tamanho dos seus lados. Considere as seguintes informações:\n",
    "\n",
    "Triângulo equilátero: todos os lados possuem o mesmo tamanho;\n",
    "\n",
    "Trângulo escaleno: todos os lados possuem medidas diferentes;\n",
    "\n",
    "Triângulo isósceles: caracterizado por ter dois lados com o mesmo tamanho."
   ]
  },
  {
   "cell_type": "code",
   "execution_count": 50,
   "metadata": {},
   "outputs": [
    {
     "name": "stdout",
     "output_type": "stream",
     "text": [
      "O triângulo é isósceles.\n"
     ]
    }
   ],
   "source": [
    "\n",
    "ladoA=float(input('Lado A: '))\n",
    "ladoB=float(input('Lado B: '))\n",
    "ladoC=float(input('Lado C: '))\n",
    "if ladoA==ladoB==ladoC:\n",
    "    print('O triângulo é equilátero.')\n",
    "elif ladoA==ladoB or ladoA==ladoC or ladoB==ladoC:\n",
    "    print('O triângulo é isósceles.')\n",
    "else:\n",
    "    print('O triângulo é escaleno.')"
   ]
  },
  {
   "cell_type": "markdown",
   "metadata": {},
   "source": [
    "39ª Exercício: Implemente uma calculadora simples com as operações aritméticas básicas. O usuário deverá especificar a operação desejada (+,-,*,/) e seguidamente inserir dois valores. Caso, o usuário escolha divisão e insira o valor do denominar 0 mostre uma mensagem personalizada. Para os demais casos, mostre na tela o resultado da operação desejada."
   ]
  },
  {
   "cell_type": "code",
   "execution_count": 51,
   "metadata": {},
   "outputs": [
    {
     "name": "stdout",
     "output_type": "stream",
     "text": [
      "25.0+95.0=120.0\n"
     ]
    }
   ],
   "source": [
    "operacao=input('Escolha a operação deseja: (+,-,*,/)')\n",
    "if operacao in ['+','-','*','/']:\n",
    "    num1=float(input('Número 1: '))\n",
    "    num2=float(input('Número 2: '))\n",
    "    if operacao=='+':\n",
    "        print(f'{num1}+{num2}={num1+num2}')\n",
    "    elif operacao=='-':\n",
    "        print(f'{num1}-{num2}={num1-num2}')\n",
    "    elif operacao=='*':\n",
    "        print(f'{num1}*{num2}={num1*num2}')\n",
    "    else:\n",
    "        if num2==0:\n",
    "            print('O denominador precisa ser diferente de zero.')\n",
    "        else:\n",
    "            print(f'{num1}/{num2}={num1/num2}')\n",
    "else:\n",
    "    print('Opção inválida.')"
   ]
  },
  {
   "cell_type": "markdown",
   "metadata": {},
   "source": [
    "40ª Exercício: Escreva um programa que mostre de 1 até 50 na tela."
   ]
  },
  {
   "cell_type": "code",
   "execution_count": 15,
   "metadata": {},
   "outputs": [
    {
     "name": "stdout",
     "output_type": "stream",
     "text": [
      "1\n",
      "2\n",
      "3\n",
      "4\n",
      "5\n",
      "6\n",
      "7\n",
      "8\n",
      "9\n",
      "10\n",
      "11\n",
      "12\n",
      "13\n",
      "14\n",
      "15\n",
      "16\n",
      "17\n",
      "18\n",
      "19\n",
      "20\n",
      "21\n",
      "22\n",
      "23\n",
      "24\n",
      "25\n",
      "26\n",
      "27\n",
      "28\n",
      "29\n",
      "30\n",
      "31\n",
      "32\n",
      "33\n",
      "34\n",
      "35\n",
      "36\n",
      "37\n",
      "38\n",
      "39\n",
      "40\n",
      "41\n",
      "42\n",
      "43\n",
      "44\n",
      "45\n",
      "46\n",
      "47\n",
      "48\n",
      "49\n",
      "50\n"
     ]
    }
   ],
   "source": [
    "for num in range(1,51):\n",
    "    print(num)"
   ]
  },
  {
   "cell_type": "markdown",
   "metadata": {},
   "source": [
    "41ª Exercício: Escreva um programa que mostre de 50 até 1 na tela."
   ]
  },
  {
   "cell_type": "code",
   "execution_count": 14,
   "metadata": {},
   "outputs": [
    {
     "name": "stdout",
     "output_type": "stream",
     "text": [
      "50\n",
      "49\n",
      "48\n",
      "47\n",
      "46\n",
      "45\n",
      "44\n",
      "43\n",
      "42\n",
      "41\n",
      "40\n",
      "39\n",
      "38\n",
      "37\n",
      "36\n",
      "35\n",
      "34\n",
      "33\n",
      "32\n",
      "31\n",
      "30\n",
      "29\n",
      "28\n",
      "27\n",
      "26\n",
      "25\n",
      "24\n",
      "23\n",
      "22\n",
      "21\n",
      "20\n",
      "19\n",
      "18\n",
      "17\n",
      "16\n",
      "15\n",
      "14\n",
      "13\n",
      "12\n",
      "11\n",
      "10\n",
      "9\n",
      "8\n",
      "7\n",
      "6\n",
      "5\n",
      "4\n",
      "3\n",
      "2\n",
      "1\n"
     ]
    }
   ],
   "source": [
    "for num in range(50,0,-1):\n",
    "    print(num)"
   ]
  },
  {
   "cell_type": "markdown",
   "metadata": {},
   "source": [
    "42ª Exercício: Escreva um programa que mostre de 150 até 200 na tela."
   ]
  },
  {
   "cell_type": "code",
   "execution_count": 13,
   "metadata": {},
   "outputs": [
    {
     "name": "stdout",
     "output_type": "stream",
     "text": [
      "150\n",
      "151\n",
      "152\n",
      "153\n",
      "154\n",
      "155\n",
      "156\n",
      "157\n",
      "158\n",
      "159\n",
      "160\n",
      "161\n",
      "162\n",
      "163\n",
      "164\n",
      "165\n",
      "166\n",
      "167\n",
      "168\n",
      "169\n",
      "170\n",
      "171\n",
      "172\n",
      "173\n",
      "174\n",
      "175\n",
      "176\n",
      "177\n",
      "178\n",
      "179\n",
      "180\n",
      "181\n",
      "182\n",
      "183\n",
      "184\n",
      "185\n",
      "186\n",
      "187\n",
      "188\n",
      "189\n",
      "190\n",
      "191\n",
      "192\n",
      "193\n",
      "194\n",
      "195\n",
      "196\n",
      "197\n",
      "198\n",
      "199\n",
      "200\n"
     ]
    }
   ],
   "source": [
    "for num in range(150,201):\n",
    "    print(num)"
   ]
  },
  {
   "cell_type": "markdown",
   "metadata": {},
   "source": [
    "43ª Exercício: Escreva um programa de contagem regressiva, ou seja, imprima na tela o seguinte padrão numérico:"
   ]
  },
  {
   "cell_type": "code",
   "execution_count": 12,
   "metadata": {},
   "outputs": [
    {
     "name": "stdout",
     "output_type": "stream",
     "text": [
      "5\n",
      "4\n",
      "3\n",
      "2\n",
      "1\n",
      "0\n"
     ]
    }
   ],
   "source": [
    "for num in range(5,-1,-1):\n",
    "    print(num)"
   ]
  },
  {
   "cell_type": "markdown",
   "metadata": {},
   "source": [
    "44ª Exercício: Faça um programa que imprima na tela de 1 até um número digitado pelo usuário."
   ]
  },
  {
   "cell_type": "code",
   "execution_count": 11,
   "metadata": {},
   "outputs": [
    {
     "name": "stdout",
     "output_type": "stream",
     "text": [
      "1\n",
      "2\n",
      "3\n",
      "4\n",
      "5\n",
      "6\n",
      "7\n",
      "8\n",
      "9\n",
      "10\n",
      "11\n",
      "12\n",
      "13\n",
      "14\n",
      "15\n",
      "16\n",
      "17\n",
      "18\n",
      "19\n",
      "20\n",
      "21\n",
      "22\n",
      "23\n",
      "24\n",
      "25\n",
      "26\n",
      "27\n",
      "28\n",
      "29\n",
      "30\n",
      "31\n",
      "32\n",
      "33\n",
      "34\n",
      "35\n",
      "36\n",
      "37\n",
      "38\n",
      "39\n",
      "40\n",
      "41\n",
      "42\n",
      "43\n",
      "44\n",
      "45\n",
      "46\n",
      "47\n",
      "48\n",
      "49\n",
      "50\n",
      "51\n",
      "52\n",
      "53\n",
      "54\n",
      "55\n",
      "56\n",
      "57\n",
      "58\n"
     ]
    }
   ],
   "source": [
    "num=int(input('Digite um número: '))  #receber número do usuário\n",
    "\n",
    "for valor in range(1,num+1):\n",
    "    print(valor)"
   ]
  },
  {
   "cell_type": "markdown",
   "metadata": {},
   "source": [
    "45ª Exercício: Escreva um programa que mostre na tela os 20 primeiros múltiplos de 5."
   ]
  },
  {
   "cell_type": "code",
   "execution_count": 10,
   "metadata": {},
   "outputs": [
    {
     "name": "stdout",
     "output_type": "stream",
     "text": [
      "5\n",
      "10\n",
      "15\n",
      "20\n",
      "25\n",
      "30\n",
      "35\n",
      "40\n",
      "45\n",
      "50\n",
      "55\n",
      "60\n",
      "65\n",
      "70\n",
      "75\n",
      "80\n",
      "85\n",
      "90\n",
      "95\n",
      "100\n"
     ]
    }
   ],
   "source": [
    "lista=[]\n",
    "x=1\n",
    "#armazenando os números em uma lista\n",
    "while len(lista)<20:\n",
    "    if x%5==0:\n",
    "        lista.append(x)\n",
    "        x+=1\n",
    "    x+=1\n",
    "\n",
    "#mostrando os números na tela\n",
    "for num in lista:\n",
    "    print(num)"
   ]
  },
  {
   "cell_type": "markdown",
   "metadata": {},
   "source": [
    "46ª Exercício: Utilizando estruturas de repetição escreva um programa que mostre os resultados da tabuada (multiplicação) de um número inserido pelo usuário."
   ]
  },
  {
   "cell_type": "code",
   "execution_count": 9,
   "metadata": {},
   "outputs": [
    {
     "name": "stdout",
     "output_type": "stream",
     "text": [
      "58 x 1 = 58\n",
      "58 x 2 = 116\n",
      "58 x 3 = 174\n",
      "58 x 4 = 232\n",
      "58 x 5 = 290\n",
      "58 x 6 = 348\n",
      "58 x 7 = 406\n",
      "58 x 8 = 464\n",
      "58 x 9 = 522\n",
      "58 x 10 = 580\n"
     ]
    }
   ],
   "source": [
    "valor=int(input('Tabuada:'))\n",
    "for num in range(1,11):\n",
    "    print(f'{valor} x {num} = {valor*num}')"
   ]
  },
  {
   "cell_type": "markdown",
   "metadata": {},
   "source": [
    "47ª Exercício: Utilizando estruturas de repetição escreva um programa que mostre os resultados da tabuada de multiplicação dos números entre 1 e 10, como segue.\n",
    "\n",
    "![image.png](data:image/png;base64,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)\n",
    "\"\"\"\n"
   ]
  },
  {
   "cell_type": "code",
   "execution_count": 8,
   "metadata": {},
   "outputs": [
    {
     "name": "stdout",
     "output_type": "stream",
     "text": [
      "1 x 1 = 1\n",
      "1 x 2 = 2\n",
      "1 x 3 = 3\n",
      "1 x 4 = 4\n",
      "1 x 5 = 5\n",
      "1 x 6 = 6\n",
      "1 x 7 = 7\n",
      "1 x 8 = 8\n",
      "1 x 9 = 9\n",
      "1 x 10 = 10\n",
      "2 x 1 = 2\n",
      "2 x 2 = 4\n",
      "2 x 3 = 6\n",
      "2 x 4 = 8\n",
      "2 x 5 = 10\n",
      "2 x 6 = 12\n",
      "2 x 7 = 14\n",
      "2 x 8 = 16\n",
      "2 x 9 = 18\n",
      "2 x 10 = 20\n",
      "3 x 1 = 3\n",
      "3 x 2 = 6\n",
      "3 x 3 = 9\n",
      "3 x 4 = 12\n",
      "3 x 5 = 15\n",
      "3 x 6 = 18\n",
      "3 x 7 = 21\n",
      "3 x 8 = 24\n",
      "3 x 9 = 27\n",
      "3 x 10 = 30\n",
      "4 x 1 = 4\n",
      "4 x 2 = 8\n",
      "4 x 3 = 12\n",
      "4 x 4 = 16\n",
      "4 x 5 = 20\n",
      "4 x 6 = 24\n",
      "4 x 7 = 28\n",
      "4 x 8 = 32\n",
      "4 x 9 = 36\n",
      "4 x 10 = 40\n",
      "5 x 1 = 5\n",
      "5 x 2 = 10\n",
      "5 x 3 = 15\n",
      "5 x 4 = 20\n",
      "5 x 5 = 25\n",
      "5 x 6 = 30\n",
      "5 x 7 = 35\n",
      "5 x 8 = 40\n",
      "5 x 9 = 45\n",
      "5 x 10 = 50\n",
      "6 x 1 = 6\n",
      "6 x 2 = 12\n",
      "6 x 3 = 18\n",
      "6 x 4 = 24\n",
      "6 x 5 = 30\n",
      "6 x 6 = 36\n",
      "6 x 7 = 42\n",
      "6 x 8 = 48\n",
      "6 x 9 = 54\n",
      "6 x 10 = 60\n",
      "7 x 1 = 7\n",
      "7 x 2 = 14\n",
      "7 x 3 = 21\n",
      "7 x 4 = 28\n",
      "7 x 5 = 35\n",
      "7 x 6 = 42\n",
      "7 x 7 = 49\n",
      "7 x 8 = 56\n",
      "7 x 9 = 63\n",
      "7 x 10 = 70\n",
      "8 x 1 = 8\n",
      "8 x 2 = 16\n",
      "8 x 3 = 24\n",
      "8 x 4 = 32\n",
      "8 x 5 = 40\n",
      "8 x 6 = 48\n",
      "8 x 7 = 56\n",
      "8 x 8 = 64\n",
      "8 x 9 = 72\n",
      "8 x 10 = 80\n",
      "9 x 1 = 9\n",
      "9 x 2 = 18\n",
      "9 x 3 = 27\n",
      "9 x 4 = 36\n",
      "9 x 5 = 45\n",
      "9 x 6 = 54\n",
      "9 x 7 = 63\n",
      "9 x 8 = 72\n",
      "9 x 9 = 81\n",
      "9 x 10 = 90\n",
      "10 x 1 = 10\n",
      "10 x 2 = 20\n",
      "10 x 3 = 30\n",
      "10 x 4 = 40\n",
      "10 x 5 = 50\n",
      "10 x 6 = 60\n",
      "10 x 7 = 70\n",
      "10 x 8 = 80\n",
      "10 x 9 = 90\n",
      "10 x 10 = 100\n"
     ]
    }
   ],
   "source": [
    "for valor in range(1,11):\n",
    "\tfor numero in range(1,11):\n",
    "\t\tprint(f'{valor} x {numero} = {valor*numero}')"
   ]
  },
  {
   "cell_type": "markdown",
   "metadata": {},
   "source": [
    "48ª Exercício: Em um único loop escreva um programa que mostre na tela de 1 a 10 três vezes e ao final mostre a mensagem Fim . No primeiro loop utilize for e nos dois loops seguintes while. O resultado do seu programa deverá ter o seguinte formato:"
   ]
  },
  {
   "cell_type": "code",
   "execution_count": 7,
   "metadata": {},
   "outputs": [
    {
     "name": "stdout",
     "output_type": "stream",
     "text": [
      "1\n",
      "2\n",
      "3\n",
      "4\n",
      "5\n",
      "6\n",
      "7\n",
      "8\n",
      "9\n",
      "10\n",
      "1\n",
      "2\n",
      "3\n",
      "4\n",
      "5\n",
      "6\n",
      "7\n",
      "8\n",
      "9\n",
      "10\n",
      "1\n",
      "2\n",
      "3\n",
      "4\n",
      "5\n",
      "6\n",
      "7\n",
      "8\n",
      "9\n",
      "10\n",
      "Fim\n"
     ]
    }
   ],
   "source": [
    "#solução 1\n",
    "x=1\n",
    "for i in range(1,11):\n",
    "    print(i)\n",
    "    if i==10:\n",
    "        while x<=10:\n",
    "            print(x)\n",
    "            x+=1\n",
    "            if x==11:\n",
    "                y=1\n",
    "                while y<=10:\n",
    "                    print(y)\n",
    "                    y+=1\n",
    "                    if y==11:\n",
    "                        print('Fim')"
   ]
  },
  {
   "cell_type": "markdown",
   "metadata": {},
   "source": [
    "49ª Exercício: Escreva um programa que peça ao usuário números entre 0-10. Se o usuário inserir um número fora desse intervalo o programa deverá finalizar com uma mensagem personalizada."
   ]
  },
  {
   "cell_type": "code",
   "execution_count": 6,
   "metadata": {},
   "outputs": [
    {
     "name": "stdout",
     "output_type": "stream",
     "text": [
      "Fim do programa.\n"
     ]
    }
   ],
   "source": [
    "num=0\n",
    "while 0<=num<=10:\n",
    "    num=int(input('Insira um número inteiro entre 0-10: '))\n",
    "    if num<0 or num>10:\n",
    "        print('Fim do programa.')"
   ]
  },
  {
   "cell_type": "markdown",
   "metadata": {},
   "source": [
    "50ª Exercício: Em um único loop escreva um programa que mostre na tela de 0-5, cinco vezes e ao final mostre a mensagem Fim . Utilize apenas for em sua implementação. Seu programa deverá gerar um output com o seguinte formato:"
   ]
  },
  {
   "cell_type": "code",
   "execution_count": 5,
   "metadata": {},
   "outputs": [
    {
     "name": "stdout",
     "output_type": "stream",
     "text": [
      "0\n",
      "1\n",
      "2\n",
      "3\n",
      "4\n",
      "5\n",
      "0\n",
      "1\n",
      "2\n",
      "3\n",
      "4\n",
      "5\n",
      "0\n",
      "1\n",
      "2\n",
      "3\n",
      "4\n",
      "5\n",
      "0\n",
      "1\n",
      "2\n",
      "3\n",
      "4\n",
      "5\n",
      "0\n",
      "1\n",
      "2\n",
      "3\n",
      "4\n",
      "5\n",
      "Fim\n"
     ]
    }
   ],
   "source": [
    "for i in range(0,6):\n",
    "    print(i)\n",
    "\n",
    "    if i==5:\n",
    "        for j in range(0,6):\n",
    "            print(j)\n",
    "\n",
    "            if j==5:\n",
    "                for k in range(0,6):\n",
    "                    print(k)\n",
    "\n",
    "                    if k==5:\n",
    "                        for l in range(0,6):\n",
    "                            print(l)\n",
    "\n",
    "                            if l==5:\n",
    "                                for m in range(0,6):\n",
    "                                    print(m)\n",
    "\n",
    "                                    if m==5:\n",
    "                                        print('Fim')\n",
    "\n"
   ]
  },
  {
   "cell_type": "markdown",
   "metadata": {},
   "source": []
  }
 ],
 "metadata": {
  "kernelspec": {
   "display_name": "Python 3",
   "language": "python",
   "name": "python3"
  },
  "language_info": {
   "codemirror_mode": {
    "name": "ipython",
    "version": 3
   },
   "file_extension": ".py",
   "mimetype": "text/x-python",
   "name": "python",
   "nbconvert_exporter": "python",
   "pygments_lexer": "ipython3",
   "version": "3.12.3"
  }
 },
 "nbformat": 4,
 "nbformat_minor": 2
}
